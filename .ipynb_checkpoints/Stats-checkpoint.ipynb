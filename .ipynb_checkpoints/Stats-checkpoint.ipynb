{
 "cells": [
  {
   "cell_type": "code",
   "execution_count": 4,
   "metadata": {},
   "outputs": [
    {
     "name": "stdout",
     "output_type": "stream",
     "text": [
      " Volume in drive C has no label.\n",
      " Volume Serial Number is D48F-B43C\n",
      "\n",
      " Directory of C:\\Users\\Sinh\\Google Drive\\Nghiên c?u khoa h?c\\Natural Language Processing\\Abstrach Meaning Representation\\Dataset\\NguyenLab_AMR_Corpus\\gdpr\n",
      "\n",
      "05/27/2020  10:55 AM    <DIR>          .\n",
      "05/27/2020  10:55 AM    <DIR>          ..\n",
      "05/27/2020  10:48 AM    <DIR>          .ipynb_checkpoints\n",
      "05/27/2020  10:42 AM    <DIR>          .vscode\n",
      "05/27/2020  11:20 AM               176 gdpr-annotating.gsheet\n",
      "04/07/2020  01:09 AM           587,063 gdpr.html\n",
      "04/07/2020  01:09 AM           718,320 gdpr.term.html\n",
      "05/27/2020  11:45 AM            43,734 gdpr_annotating.txt\n",
      "04/11/2020  10:37 AM           364,331 gdpr_structure.txt\n",
      "04/17/2020  04:01 PM    <DIR>          prolegEng\n",
      "05/27/2020  10:41 AM               225 statistic.py\n",
      "05/27/2020  10:55 AM               904 Stats.ipynb\n",
      "05/18/2020  05:30 PM           910,778 Vos2019_Chapter_ODRLPolicyModellingAndComplian.pdf\n",
      "               8 File(s)      2,625,531 bytes\n",
      "               5 Dir(s)  18,280,345,600 bytes free\n"
     ]
    }
   ],
   "source": [
    "!dir"
   ]
  },
  {
   "cell_type": "code",
   "execution_count": 1,
   "metadata": {},
   "outputs": [
    {
     "name": "stdout",
     "output_type": "stream",
     "text": [
      "Total number of sentences:  43\n",
      "This Regulation applies to the processing of personal data of data subjects who are in the Union by a controller or processor not established in the Union, where the processing activities are related to: (a) the offering of goods or services, irrespective of whether a payment of the data subject is required, to such data subjects in the Union; or (b) the monitoring of their behaviour as far as their behaviour takes place within the Union.\n",
      "\n"
     ]
    }
   ],
   "source": [
    "sentences = []\n",
    "with open(\"gdpr_annotating.txt\", \"r\") as fr:\n",
    "    lines = fr.readlines()\n",
    "\n",
    "for line in lines:\n",
    "    if line.startswith(\"# ::snt\"):\n",
    "        sentences.append(line[8:])\n",
    "        \n",
    "print(\"Total number of sentences: \",len(sentences))\n",
    "print(sentences[12])"
   ]
  },
  {
   "cell_type": "code",
   "execution_count": 2,
   "metadata": {},
   "outputs": [
    {
     "name": "stdout",
     "output_type": "stream",
     "text": [
      "Max sentence length:  160\n",
      "Min sentence length:  2\n",
      "Average sentence length:  36.16\n"
     ]
    }
   ],
   "source": [
    "import statistics \n",
    "import matplotlib\n",
    "\n",
    "sent_len = [len(s.split()) for s in sentences]\n",
    "\n",
    "max_len = max(sent_len)\n",
    "mean_len = statistics.mean(sent_len)\n",
    "min_len = min(sent_len)\n",
    "print(\"Max sentence length: \", max_len)\n",
    "print(\"Min sentence length: \", min_len)\n",
    "print(\"Average sentence length: \", round(mean_len, 2))\n",
    "\n",
    "with open(\"gdpr_sentences.txt\", \"w\") as fw:\n",
    "    for s in sentences:\n",
    "        fw.write(s)\n",
    "        fw.write(\"\\n\")"
   ]
  },
  {
   "cell_type": "code",
   "execution_count": 3,
   "metadata": {},
   "outputs": [
    {
     "name": "stdout",
     "output_type": "stream",
     "text": [
      "43\n",
      "Number of edges:  [8, 19, 25, 27, 25, 6, 22, 52, 18, 15, 17, 14, 32, 18, 51, 9, 15, 10, 20, 41, 27, 60, 31, 49, 12, 40, 29, 19, 1, 3, 1, 1, 2, 1, 2, 3, 24, 34, 15, 9, 8, 16, 15]\n"
     ]
    }
   ],
   "source": [
    "import penman\n",
    "\n",
    "graphs = penman.load(\"gdpr_annotating.txt\")\n",
    "print(len(graphs))\n",
    "# print(graphs[12])\n",
    "\n",
    "num_nodes = []\n",
    "num_edges = [len(g.edges()) for g in graphs]\n",
    "print(\"Number of edges: \", num_edges)\n",
    "\n",
    "\n",
    "# for g in graphs[:5]:\n",
    "#     print(g)\n",
    "#     nodes = []\n",
    "#     for triple in g.triples():\n",
    "#         if triple.source not in nodes:\n",
    "#             nodes.append(triples.source)\n",
    "#         if triple.target not in nodes:\n",
    "#             nodes.append(triples.target)\n",
    "#     num_nodes.append(len(nodes))\n",
    "    \n",
    "# print(\"Number of nodes: \", num_nodes)"
   ]
  },
  {
   "cell_type": "code",
   "execution_count": null,
   "metadata": {},
   "outputs": [],
   "source": []
  }
 ],
 "metadata": {
  "kernelspec": {
   "display_name": "Python 3",
   "language": "python",
   "name": "python3"
  },
  "language_info": {
   "codemirror_mode": {
    "name": "ipython",
    "version": 3
   },
   "file_extension": ".py",
   "mimetype": "text/x-python",
   "name": "python",
   "nbconvert_exporter": "python",
   "pygments_lexer": "ipython3",
   "version": "3.7.6"
  }
 },
 "nbformat": 4,
 "nbformat_minor": 2
}
